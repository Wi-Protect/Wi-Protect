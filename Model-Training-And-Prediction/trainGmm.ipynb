{
 "cells": [
  {
   "cell_type": "code",
   "execution_count": 1,
   "metadata": {},
   "outputs": [],
   "source": [
    "import pandas as pd\n",
    "\n",
    "df = pd.read_csv('wavelet.csv')"
   ]
  },
  {
   "cell_type": "code",
   "execution_count": 2,
   "metadata": {},
   "outputs": [],
   "source": [
    "X = df.iloc[:, :-1]\n",
    "\n",
    "Y = df.iloc[:, -1]"
   ]
  },
  {
   "cell_type": "code",
   "execution_count": 3,
   "metadata": {},
   "outputs": [
    {
     "data": {
      "text/html": [
       "<div>\n",
       "<style scoped>\n",
       "    .dataframe tbody tr th:only-of-type {\n",
       "        vertical-align: middle;\n",
       "    }\n",
       "\n",
       "    .dataframe tbody tr th {\n",
       "        vertical-align: top;\n",
       "    }\n",
       "\n",
       "    .dataframe thead th {\n",
       "        text-align: right;\n",
       "    }\n",
       "</style>\n",
       "<table border=\"1\" class=\"dataframe\">\n",
       "  <thead>\n",
       "    <tr style=\"text-align: right;\">\n",
       "      <th></th>\n",
       "      <th>0</th>\n",
       "      <th>1</th>\n",
       "      <th>2</th>\n",
       "      <th>3</th>\n",
       "      <th>4</th>\n",
       "      <th>5</th>\n",
       "      <th>6</th>\n",
       "      <th>7</th>\n",
       "      <th>8</th>\n",
       "      <th>9</th>\n",
       "      <th>...</th>\n",
       "      <th>15</th>\n",
       "      <th>16</th>\n",
       "      <th>17</th>\n",
       "      <th>18</th>\n",
       "      <th>19</th>\n",
       "      <th>20</th>\n",
       "      <th>21</th>\n",
       "      <th>22</th>\n",
       "      <th>23</th>\n",
       "      <th>24</th>\n",
       "    </tr>\n",
       "  </thead>\n",
       "  <tbody>\n",
       "    <tr>\n",
       "      <th>0</th>\n",
       "      <td>844246.771846</td>\n",
       "      <td>766322.702933</td>\n",
       "      <td>676362.874956</td>\n",
       "      <td>582653.055304</td>\n",
       "      <td>487632.724253</td>\n",
       "      <td>393843.605076</td>\n",
       "      <td>305121.373537</td>\n",
       "      <td>223931.271079</td>\n",
       "      <td>154857.408559</td>\n",
       "      <td>94572.790876</td>\n",
       "      <td>...</td>\n",
       "      <td>48111.797898</td>\n",
       "      <td>93226.921534</td>\n",
       "      <td>153166.942791</td>\n",
       "      <td>222545.054532</td>\n",
       "      <td>303888.999399</td>\n",
       "      <td>391866.465254</td>\n",
       "      <td>486724.818599</td>\n",
       "      <td>582024.721112</td>\n",
       "      <td>676678.812110</td>\n",
       "      <td>766812.986354</td>\n",
       "    </tr>\n",
       "    <tr>\n",
       "      <th>1</th>\n",
       "      <td>851375.348222</td>\n",
       "      <td>774111.417021</td>\n",
       "      <td>683931.984637</td>\n",
       "      <td>589071.573066</td>\n",
       "      <td>493228.136977</td>\n",
       "      <td>398480.843524</td>\n",
       "      <td>308753.153052</td>\n",
       "      <td>226674.010000</td>\n",
       "      <td>156393.591442</td>\n",
       "      <td>95865.394673</td>\n",
       "      <td>...</td>\n",
       "      <td>47995.749940</td>\n",
       "      <td>93312.556147</td>\n",
       "      <td>153424.613589</td>\n",
       "      <td>223178.694361</td>\n",
       "      <td>305063.310803</td>\n",
       "      <td>394014.921374</td>\n",
       "      <td>489715.817570</td>\n",
       "      <td>586245.862100</td>\n",
       "      <td>681382.519576</td>\n",
       "      <td>772321.154907</td>\n",
       "    </tr>\n",
       "    <tr>\n",
       "      <th>2</th>\n",
       "      <td>884561.046834</td>\n",
       "      <td>805462.679879</td>\n",
       "      <td>712995.277572</td>\n",
       "      <td>616338.739829</td>\n",
       "      <td>518113.814785</td>\n",
       "      <td>420973.478929</td>\n",
       "      <td>328356.639683</td>\n",
       "      <td>243127.911778</td>\n",
       "      <td>169764.937039</td>\n",
       "      <td>105944.804686</td>\n",
       "      <td>...</td>\n",
       "      <td>45050.099684</td>\n",
       "      <td>90432.600876</td>\n",
       "      <td>151332.371735</td>\n",
       "      <td>222692.063303</td>\n",
       "      <td>307100.479375</td>\n",
       "      <td>399330.775529</td>\n",
       "      <td>498983.142903</td>\n",
       "      <td>599785.024406</td>\n",
       "      <td>699926.556974</td>\n",
       "      <td>796329.385742</td>\n",
       "    </tr>\n",
       "    <tr>\n",
       "      <th>3</th>\n",
       "      <td>875623.235671</td>\n",
       "      <td>791263.938793</td>\n",
       "      <td>693748.534380</td>\n",
       "      <td>592467.523342</td>\n",
       "      <td>491291.727575</td>\n",
       "      <td>392664.217563</td>\n",
       "      <td>300174.393228</td>\n",
       "      <td>216875.012549</td>\n",
       "      <td>146730.350371</td>\n",
       "      <td>86788.007042</td>\n",
       "      <td>...</td>\n",
       "      <td>58605.868118</td>\n",
       "      <td>108194.982183</td>\n",
       "      <td>172722.918894</td>\n",
       "      <td>246321.839503</td>\n",
       "      <td>331850.274237</td>\n",
       "      <td>423853.145715</td>\n",
       "      <td>521895.203145</td>\n",
       "      <td>620060.792082</td>\n",
       "      <td>716353.006580</td>\n",
       "      <td>807798.021463</td>\n",
       "    </tr>\n",
       "    <tr>\n",
       "      <th>4</th>\n",
       "      <td>862933.383222</td>\n",
       "      <td>782687.639338</td>\n",
       "      <td>689386.984217</td>\n",
       "      <td>592237.854560</td>\n",
       "      <td>493949.114379</td>\n",
       "      <td>397407.064741</td>\n",
       "      <td>306431.404397</td>\n",
       "      <td>223540.773615</td>\n",
       "      <td>153226.074482</td>\n",
       "      <td>92582.391814</td>\n",
       "      <td>...</td>\n",
       "      <td>52075.319477</td>\n",
       "      <td>98969.366795</td>\n",
       "      <td>160784.411899</td>\n",
       "      <td>231720.006889</td>\n",
       "      <td>314865.545939</td>\n",
       "      <td>404502.003237</td>\n",
       "      <td>500760.392064</td>\n",
       "      <td>597458.846946</td>\n",
       "      <td>693382.098300</td>\n",
       "      <td>785308.674817</td>\n",
       "    </tr>\n",
       "  </tbody>\n",
       "</table>\n",
       "<p>5 rows × 25 columns</p>\n",
       "</div>"
      ],
      "text/plain": [
       "               0              1              2              3              4  \\\n",
       "0  844246.771846  766322.702933  676362.874956  582653.055304  487632.724253   \n",
       "1  851375.348222  774111.417021  683931.984637  589071.573066  493228.136977   \n",
       "2  884561.046834  805462.679879  712995.277572  616338.739829  518113.814785   \n",
       "3  875623.235671  791263.938793  693748.534380  592467.523342  491291.727575   \n",
       "4  862933.383222  782687.639338  689386.984217  592237.854560  493949.114379   \n",
       "\n",
       "               5              6              7              8              9  \\\n",
       "0  393843.605076  305121.373537  223931.271079  154857.408559   94572.790876   \n",
       "1  398480.843524  308753.153052  226674.010000  156393.591442   95865.394673   \n",
       "2  420973.478929  328356.639683  243127.911778  169764.937039  105944.804686   \n",
       "3  392664.217563  300174.393228  216875.012549  146730.350371   86788.007042   \n",
       "4  397407.064741  306431.404397  223540.773615  153226.074482   92582.391814   \n",
       "\n",
       "   ...            15             16             17             18  \\\n",
       "0  ...  48111.797898   93226.921534  153166.942791  222545.054532   \n",
       "1  ...  47995.749940   93312.556147  153424.613589  223178.694361   \n",
       "2  ...  45050.099684   90432.600876  151332.371735  222692.063303   \n",
       "3  ...  58605.868118  108194.982183  172722.918894  246321.839503   \n",
       "4  ...  52075.319477   98969.366795  160784.411899  231720.006889   \n",
       "\n",
       "              19             20             21             22             23  \\\n",
       "0  303888.999399  391866.465254  486724.818599  582024.721112  676678.812110   \n",
       "1  305063.310803  394014.921374  489715.817570  586245.862100  681382.519576   \n",
       "2  307100.479375  399330.775529  498983.142903  599785.024406  699926.556974   \n",
       "3  331850.274237  423853.145715  521895.203145  620060.792082  716353.006580   \n",
       "4  314865.545939  404502.003237  500760.392064  597458.846946  693382.098300   \n",
       "\n",
       "              24  \n",
       "0  766812.986354  \n",
       "1  772321.154907  \n",
       "2  796329.385742  \n",
       "3  807798.021463  \n",
       "4  785308.674817  \n",
       "\n",
       "[5 rows x 25 columns]"
      ]
     },
     "execution_count": 3,
     "metadata": {},
     "output_type": "execute_result"
    }
   ],
   "source": [
    "X.head()"
   ]
  },
  {
   "cell_type": "code",
   "execution_count": 4,
   "metadata": {},
   "outputs": [
    {
     "data": {
      "text/plain": [
       "0    0.0\n",
       "1    0.0\n",
       "2    0.0\n",
       "3    0.0\n",
       "4    0.0\n",
       "Name: 25, dtype: float64"
      ]
     },
     "execution_count": 4,
     "metadata": {},
     "output_type": "execute_result"
    }
   ],
   "source": [
    "Y.head()"
   ]
  },
  {
   "cell_type": "code",
   "execution_count": 5,
   "metadata": {},
   "outputs": [
    {
     "data": {
      "text/plain": [
       "array([0., 1., 2., 3., 4., 5.])"
      ]
     },
     "execution_count": 5,
     "metadata": {},
     "output_type": "execute_result"
    }
   ],
   "source": [
    "import numpy as np\n",
    "\n",
    "np.unique(Y)"
   ]
  },
  {
   "cell_type": "code",
   "execution_count": 6,
   "metadata": {},
   "outputs": [],
   "source": [
    "from sklearn.mixture import GaussianMixture\n",
    "import numpy as np\n",
    "\n",
    "n_classes = len(np.unique(Y))\n",
    "gmm_models = [GaussianMixture(n_components=3, covariance_type='full') for _ in range(n_classes)]"
   ]
  },
  {
   "cell_type": "code",
   "execution_count": 42,
   "metadata": {},
   "outputs": [],
   "source": [
    "for i in range(n_classes):\n",
    "    class_data = X[Y == i]\n",
    "    gmm_models[i].fit(class_data)"
   ]
  },
  {
   "cell_type": "code",
   "execution_count": 43,
   "metadata": {},
   "outputs": [],
   "source": [
    "import numpy as np\n",
    "\n",
    "predicted_probs = np.zeros((len(X), 6))\n",
    "for i in range(6):\n",
    "    predicted_probs[:, i] = gmm_models[i].score_samples(X)"
   ]
  },
  {
   "cell_type": "code",
   "execution_count": 44,
   "metadata": {},
   "outputs": [],
   "source": [
    "predicted_labels = np.argmax(predicted_probs, axis=1)\n"
   ]
  },
  {
   "cell_type": "code",
   "execution_count": 45,
   "metadata": {},
   "outputs": [
    {
     "data": {
      "text/plain": [
       "array([0, 4, 0, ..., 0, 5, 1], dtype=int64)"
      ]
     },
     "execution_count": 45,
     "metadata": {},
     "output_type": "execute_result"
    }
   ],
   "source": [
    "predicted_labels"
   ]
  },
  {
   "cell_type": "code",
   "execution_count": 46,
   "metadata": {},
   "outputs": [
    {
     "name": "stdout",
     "output_type": "stream",
     "text": [
      "Accuracy: 0.72\n"
     ]
    }
   ],
   "source": [
    "from sklearn.metrics import accuracy_score\n",
    "\n",
    "accuracy = accuracy_score(Y, predicted_labels)\n",
    "print(f\"Accuracy: {accuracy:.2f}\")\n"
   ]
  },
  {
   "cell_type": "code",
   "execution_count": 47,
   "metadata": {},
   "outputs": [
    {
     "data": {
      "image/png": "[encoded data removed]",
      "text/plain": [
       "<Figure size 800x600 with 1 Axes>"
      ]
     },
     "metadata": {},
     "output_type": "display_data"
    }
   ],
   "source": [
    "from sklearn.metrics import confusion_matrix\n",
    "from matplotlib import pyplot as plt\n",
    "import seaborn as sns\n",
    "\n",
    "# Generate the confusion matrix\n",
    "cm = confusion_matrix(Y, predicted_labels)\n",
    "\n",
    "# Plot the confusion matrix using seaborn heatmap\n",
    "plt.figure(figsize=(8, 6))\n",
    "sns.heatmap(cm, annot=True, fmt=\"d\", cmap=\"Blues\", cbar=False)\n",
    "plt.title(\"Confusion Matrix\")\n",
    "plt.xlabel(\"Predicted Label\")\n",
    "plt.ylabel(\"True Label\")\n",
    "plt.show()"
   ]
  },
  {
   "cell_type": "code",
   "execution_count": 48,
   "metadata": {},
   "outputs": [
    {
     "name": "stdout",
     "output_type": "stream",
     "text": [
      "F1 Score: 0.7100\n"
     ]
    }
   ],
   "source": [
    "from sklearn.metrics import f1_score\n",
    "\n",
    "f1 = f1_score(Y, predicted_labels, average='weighted')\n",
    "print(f\"F1 Score: {f1:.4f}\")"
   ]
  },
  {
   "cell_type": "code",
   "execution_count": 49,
   "metadata": {},
   "outputs": [
    {
     "name": "stdout",
     "output_type": "stream",
     "text": [
      "Class 0:\n",
      "Precision: 0.8442\n",
      "Recall: 0.9000\n",
      "F1 Score: 0.8712\n",
      "\n",
      "Class 1:\n",
      "Precision: 0.5196\n",
      "Recall: 0.6098\n",
      "F1 Score: 0.5611\n",
      "\n",
      "Class 2:\n",
      "Precision: 0.5892\n",
      "Recall: 0.4974\n",
      "F1 Score: 0.5394\n",
      "\n",
      "Class 3:\n",
      "Precision: 0.5524\n",
      "Recall: 0.2648\n",
      "F1 Score: 0.3580\n",
      "\n",
      "Class 4:\n",
      "Precision: 0.7972\n",
      "Recall: 0.9827\n",
      "F1 Score: 0.8803\n",
      "\n",
      "Class 5:\n",
      "Precision: 0.6577\n",
      "Recall: 0.5692\n",
      "F1 Score: 0.6102\n",
      "\n"
     ]
    }
   ],
   "source": [
    "from sklearn.metrics import precision_score, recall_score, f1_score\n",
    "\n",
    "# Assuming you have true labels (y_actual) and predicted labels (y_pred)\n",
    "# For each class (0, 1, 2, 3), calculate precision, recall, and F1 score\n",
    "precision = precision_score(Y, predicted_labels, average=None)\n",
    "recall = recall_score(Y, predicted_labels, average=None)\n",
    "f1 = f1_score(Y, predicted_labels, average=None)\n",
    "\n",
    "# Print results for each class\n",
    "for class_label in range(6):\n",
    "    print(f\"Class {class_label}:\")\n",
    "    print(f\"Precision: {precision[class_label]:.4f}\")\n",
    "    print(f\"Recall: {recall[class_label]:.4f}\")\n",
    "    print(f\"F1 Score: {f1[class_label]:.4f}\\n\")\n"
   ]
  },
  {
   "cell_type": "code",
   "execution_count": 50,
   "metadata": {},
   "outputs": [
    {
     "name": "stdout",
     "output_type": "stream",
     "text": [
      "Saved GMM model 0 to ./models/gmm_model_0.pkl\n",
      "Saved GMM model 1 to ./models/gmm_model_1.pkl\n",
      "Saved GMM model 2 to ./models/gmm_model_2.pkl\n",
      "Saved GMM model 3 to ./models/gmm_model_3.pkl\n",
      "Saved GMM model 4 to ./models/gmm_model_4.pkl\n",
      "Saved GMM model 5 to ./models/gmm_model_5.pkl\n"
     ]
    },
    {
     "ename": "",
     "evalue": "",
     "output_type": "error",
     "traceback": [
      "\u001b[1;31mThe Kernel crashed while executing code in the current cell or a previous cell. \n",
      "\u001b[1;31mPlease review the code in the cell(s) to identify a possible cause of the failure. \n",
      "\u001b[1;31mClick <a href='https://aka.ms/vscodeJupyterKernelCrash'>here</a> for more info. \n",
      "\u001b[1;31mView Jupyter <a href='command:jupyter.viewOutput'>log</a> for further details."
     ]
    }
   ],
   "source": [
    "import joblib\n",
    "\n",
    "save_dir = './models/'\n",
    "\n",
    "for i, gmm_model in enumerate(gmm_models):\n",
    "    model_filename = f'gmm_model_{i}.pkl'\n",
    "    model_path = save_dir + model_filename\n",
    "    joblib.dump(gmm_model, model_path)\n",
    "    print(f\"Saved GMM model {i} to {model_path}\")"
   ]
  },
  {
   "cell_type": "code",
   "execution_count": null,
   "metadata": {},
   "outputs": [],
   "source": []
  }
 ],
 "metadata": {
  "kernelspec": {
   "display_name": ".venv",
   "language": "python",
   "name": "python3"
  },
  "language_info": {
   "codemirror_mode": {
    "name": "ipython",
    "version": 3
   },
   "file_extension": ".py",
   "mimetype": "text/x-python",
   "name": "python",
   "nbconvert_exporter": "python",
   "pygments_lexer": "ipython3",
   "version": "3.12.3"
  }
 },
 "nbformat": 4,
 "nbformat_minor": 2
}
